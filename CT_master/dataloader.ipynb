{
 "cells": [
  {
   "cell_type": "code",
   "execution_count": 26,
   "metadata": {},
   "outputs": [],
   "source": [
    "from skimage import transform\n",
    "from torch.utils.data import Dataset, DataLoader\n",
    "import pandas as pd\n",
    "import os\n",
    "import glob\n",
    "import torch\n",
    "import pickle\n",
    "import pydicom\n",
    "from numpy import random\n",
    "import matplotlib.pyplot as plt\n",
    "import numpy as np\n",
    "from torchvision import transforms\n",
    "import csv\n",
    "import pathlib\n",
    "import torch\n",
    "import torchvision\n",
    "import torchvision.transforms as transforms"
   ]
  },
  {
   "cell_type": "code",
   "execution_count": 27,
   "metadata": {},
   "outputs": [],
   "source": [
    "class CBISDDSMDataset(Dataset):\n",
    "    def __init__(self, csv_path, data_path, transform=None):\n",
    "        \"\"\"\n",
    "        Args:\n",
    "            csv_file (string): Path to the csv file with annotations.\n",
    "            root_dir (string): Directory with all the images.\n",
    "            transform (callable, optional): Optional transform to be applied\n",
    "                on a sample.\n",
    "        \"\"\"\n",
    "        super(CBISDDSMDataset, self).__init__()\n",
    "        with open(csv_path, newline='') as csvfile:\n",
    "            rows = csv.DictReader(csvfile)\n",
    "            img_names = []\n",
    "            pathology = []\n",
    "            for row in rows:\n",
    "                #ds = pydicom.filereader.dcmread(os.path.join(image_base_path,row['image file path']))\n",
    "                dp = row['cropped image file path']\n",
    "                dp = dp.split(\"/\")\n",
    "                bm = row['pathology']\n",
    "                bm = bm.split(\"_\")\n",
    "                pathology.append(bm[0])\n",
    "\n",
    "                # r=root, d=directories, f = files\n",
    "                for r, d, f in os.walk(os.path.join(data_path, dp[0])):\n",
    "                    for file in f:\n",
    "                        if '01.dcm' in file:\n",
    "                            img_names.append(os.path.join(r, file))\n",
    "            self.img_names = img_names\n",
    "            self.pathology = pathology\n",
    "            self.transform = transform\n",
    "            sample = {'image': img_names, 'annotations': pathology}\n",
    "            print(sample['image'][0])\n",
    "\n",
    "    def __len__(self):\n",
    "        return len(self.img_names)\n",
    "\n",
    "    def __getitem__(self, idx):\n",
    "        images = []\n",
    "        for i in self.img_names:\n",
    "            images.append(pydicom.dcmread(self.img_names[i]).pixel_array)\n",
    "        sample = {'image': images, 'annotations': self.pathology}\n",
    "\n",
    "        if self.transform:\n",
    "            sample = self.transform(sample)\n",
    "        return sample\n",
    "\n",
    "    def test(self, idx):\n",
    "        images = []\n",
    "        for i in self.img_names:\n",
    "            images.append(pydicom.dcmread(self.img_names[i]).pixel_array)\n",
    "        sample = {'image': images, 'annotations': self.pathology}\n",
    "\n",
    "        if self.transform:\n",
    "            sample = self.transform(sample)\n",
    "        return sample"
   ]
  },
  {
   "cell_type": "code",
   "execution_count": 28,
   "metadata": {},
   "outputs": [
    {
     "name": "stdout",
     "output_type": "stream",
     "text": [
      "D:/CT_master/CBIS-DDSM_Dataset/train/Calc-Training_P_00007_LEFT_CC_1\\09-06-2017-DDSM-59880\\1-ROI mask images-52041\\000001.dcm\n"
     ]
    }
   ],
   "source": [
    "image_base_path = \"D:/CT_master/CBIS-DDSM_Dataset/train/\"\n",
    "raw_csv_path = \"annotation/calc_case_description_train_set.csv\"\n",
    "\n",
    "with open(raw_csv_path, newline='') as csvfile:\n",
    "        rows = csv.DictReader(csvfile)\n",
    "        img_names = []\n",
    "        pathology = []\n",
    "        for row in rows:\n",
    "            #ds = pydicom.filereader.dcmread(os.path.join(image_base_path,row['image file path']))\n",
    "            dp = row['cropped image file path']\n",
    "            dp = dp.split(\"/\")\n",
    "            bm = row['pathology']\n",
    "            bm = bm.split(\"_\")\n",
    "            pathology.append(bm[0])\n",
    "\n",
    "            # r=root, d=directories, f = files\n",
    "            for r, d, f in os.walk(os.path.join(image_base_path,dp[0])): \n",
    "                for file in f:\n",
    "                    if '01.dcm' in file:\n",
    "                        img_names.append(os.path.join(r, file))\n",
    "        \n",
    "        sample = {'image': img_names, 'annotations': pathology}\n",
    "        print(sample['image'][0])"
   ]
  },
  {
   "cell_type": "code",
   "execution_count": null,
   "metadata": {},
   "outputs": [],
   "source": []
  }
 ],
 "metadata": {
  "kernelspec": {
   "display_name": "Python 3",
   "language": "python",
   "name": "python3"
  },
  "language_info": {
   "codemirror_mode": {
    "name": "ipython",
    "version": 3
   },
   "file_extension": ".py",
   "mimetype": "text/x-python",
   "name": "python",
   "nbconvert_exporter": "python",
   "pygments_lexer": "ipython3",
   "version": "3.7.7"
  }
 },
 "nbformat": 4,
 "nbformat_minor": 4
}
